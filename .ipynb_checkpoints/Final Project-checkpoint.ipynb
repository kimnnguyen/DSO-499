{
 "cells": [
  {
   "cell_type": "markdown",
   "metadata": {},
   "source": [
    "# DSO 499 Final Project"
   ]
  },
  {
   "cell_type": "markdown",
   "metadata": {},
   "source": [
    "## Load libraries and read data"
   ]
  },
  {
   "cell_type": "code",
   "execution_count": 2,
   "metadata": {},
   "outputs": [],
   "source": [
    "import pandas as pd\n",
    "import numpy as np\n",
    "import matplotlib.pyplot as plt"
   ]
  },
  {
   "cell_type": "code",
   "execution_count": 3,
   "metadata": {},
   "outputs": [
    {
     "data": {
      "text/html": [
       "<div>\n",
       "<style scoped>\n",
       "    .dataframe tbody tr th:only-of-type {\n",
       "        vertical-align: middle;\n",
       "    }\n",
       "\n",
       "    .dataframe tbody tr th {\n",
       "        vertical-align: top;\n",
       "    }\n",
       "\n",
       "    .dataframe thead th {\n",
       "        text-align: right;\n",
       "    }\n",
       "</style>\n",
       "<table border=\"1\" class=\"dataframe\">\n",
       "  <thead>\n",
       "    <tr style=\"text-align: right;\">\n",
       "      <th></th>\n",
       "      <th>Name</th>\n",
       "      <th>Address</th>\n",
       "      <th>Longitude</th>\n",
       "      <th>Latitude</th>\n",
       "    </tr>\n",
       "  </thead>\n",
       "  <tbody>\n",
       "    <tr>\n",
       "      <th>0</th>\n",
       "      <td>Joymode Downtown LA</td>\n",
       "      <td>430 W 12th St,Los Angeles,CA 90015</td>\n",
       "      <td>-118.266415</td>\n",
       "      <td>34.040461</td>\n",
       "    </tr>\n",
       "    <tr>\n",
       "      <th>1</th>\n",
       "      <td>Joymode Culver City</td>\n",
       "      <td>3700 S Robertson Blvd,Culver City,CA 90232</td>\n",
       "      <td>-118.391918</td>\n",
       "      <td>34.027362</td>\n",
       "    </tr>\n",
       "    <tr>\n",
       "      <th>2</th>\n",
       "      <td>Joymode South Pasadena</td>\n",
       "      <td>452 Fair Oaks Ave,South Pasadena,CA 91030</td>\n",
       "      <td>-118.151303</td>\n",
       "      <td>34.120378</td>\n",
       "    </tr>\n",
       "    <tr>\n",
       "      <th>3</th>\n",
       "      <td>Joymode Tarzana</td>\n",
       "      <td>4001 Reseda Blvd,Tarzana,CA 91356</td>\n",
       "      <td>-118.543862</td>\n",
       "      <td>34.143217</td>\n",
       "    </tr>\n",
       "    <tr>\n",
       "      <th>4</th>\n",
       "      <td>Joymode Long Beach</td>\n",
       "      <td>228 Elm Ave,Long Beach,CA 90802</td>\n",
       "      <td>-118.189492</td>\n",
       "      <td>33.769907</td>\n",
       "    </tr>\n",
       "  </tbody>\n",
       "</table>\n",
       "</div>"
      ],
      "text/plain": [
       "                     Name                                     Address  \\\n",
       "0     Joymode Downtown LA          430 W 12th St,Los Angeles,CA 90015   \n",
       "1     Joymode Culver City  3700 S Robertson Blvd,Culver City,CA 90232   \n",
       "2  Joymode South Pasadena   452 Fair Oaks Ave,South Pasadena,CA 91030   \n",
       "3         Joymode Tarzana           4001 Reseda Blvd,Tarzana,CA 91356   \n",
       "4      Joymode Long Beach             228 Elm Ave,Long Beach,CA 90802   \n",
       "\n",
       "    Longitude   Latitude  \n",
       "0 -118.266415  34.040461  \n",
       "1 -118.391918  34.027362  \n",
       "2 -118.151303  34.120378  \n",
       "3 -118.543862  34.143217  \n",
       "4 -118.189492  33.769907  "
      ]
     },
     "execution_count": 3,
     "metadata": {},
     "output_type": "execute_result"
    }
   ],
   "source": [
    "warehouse = pd.read_csv('joymode_warehouses.csv')\n",
    "warehouse"
   ]
  },
  {
   "cell_type": "code",
   "execution_count": 4,
   "metadata": {},
   "outputs": [
    {
     "data": {
      "text/html": [
       "<div>\n",
       "<style scoped>\n",
       "    .dataframe tbody tr th:only-of-type {\n",
       "        vertical-align: middle;\n",
       "    }\n",
       "\n",
       "    .dataframe tbody tr th {\n",
       "        vertical-align: top;\n",
       "    }\n",
       "\n",
       "    .dataframe thead th {\n",
       "        text-align: right;\n",
       "    }\n",
       "</style>\n",
       "<table border=\"1\" class=\"dataframe\">\n",
       "  <thead>\n",
       "    <tr style=\"text-align: right;\">\n",
       "      <th></th>\n",
       "      <th>ID</th>\n",
       "      <th>Census County Division</th>\n",
       "      <th>Population</th>\n",
       "      <th>Households</th>\n",
       "      <th>Latitude</th>\n",
       "      <th>Longitude</th>\n",
       "    </tr>\n",
       "  </thead>\n",
       "  <tbody>\n",
       "    <tr>\n",
       "      <th>0</th>\n",
       "      <td>603790015</td>\n",
       "      <td>Agoura Hills-Malibu</td>\n",
       "      <td>63824</td>\n",
       "      <td>26547</td>\n",
       "      <td>34.059545</td>\n",
       "      <td>-118.755208</td>\n",
       "    </tr>\n",
       "    <tr>\n",
       "      <th>1</th>\n",
       "      <td>603790560</td>\n",
       "      <td>Compton</td>\n",
       "      <td>342576</td>\n",
       "      <td>89732</td>\n",
       "      <td>33.869642</td>\n",
       "      <td>-118.245185</td>\n",
       "    </tr>\n",
       "    <tr>\n",
       "      <th>2</th>\n",
       "      <td>603790730</td>\n",
       "      <td>Downey-Norwalk</td>\n",
       "      <td>414144</td>\n",
       "      <td>123852</td>\n",
       "      <td>33.902535</td>\n",
       "      <td>-118.109263</td>\n",
       "    </tr>\n",
       "    <tr>\n",
       "      <th>3</th>\n",
       "      <td>603790810</td>\n",
       "      <td>East San Gabriel Valley</td>\n",
       "      <td>935875</td>\n",
       "      <td>276360</td>\n",
       "      <td>34.062534</td>\n",
       "      <td>-117.858474</td>\n",
       "    </tr>\n",
       "    <tr>\n",
       "      <th>4</th>\n",
       "      <td>603791400</td>\n",
       "      <td>Inglewood</td>\n",
       "      <td>369694</td>\n",
       "      <td>125450</td>\n",
       "      <td>33.922789</td>\n",
       "      <td>-118.335092</td>\n",
       "    </tr>\n",
       "  </tbody>\n",
       "</table>\n",
       "</div>"
      ],
      "text/plain": [
       "          ID   Census County Division  Population  Households   Latitude  \\\n",
       "0  603790015      Agoura Hills-Malibu       63824       26547  34.059545   \n",
       "1  603790560                  Compton      342576       89732  33.869642   \n",
       "2  603790730           Downey-Norwalk      414144      123852  33.902535   \n",
       "3  603790810  East San Gabriel Valley      935875      276360  34.062534   \n",
       "4  603791400                Inglewood      369694      125450  33.922789   \n",
       "\n",
       "    Longitude  \n",
       "0 -118.755208  \n",
       "1 -118.245185  \n",
       "2 -118.109263  \n",
       "3 -117.858474  \n",
       "4 -118.335092  "
      ]
     },
     "execution_count": 4,
     "metadata": {},
     "output_type": "execute_result"
    }
   ],
   "source": [
    "cust_regions = pd.read_csv('customer_regions.csv')\n",
    "cust_regions.head()"
   ]
  },
  {
   "cell_type": "markdown",
   "metadata": {},
   "source": [
    "## Joymode service map\n",
    "Visualize the locations of Joymode warehouses relative to customer regions. "
   ]
  },
  {
   "cell_type": "code",
   "execution_count": 12,
   "metadata": {},
   "outputs": [
    {
     "data": {
      "application/vnd.jupyter.widget-view+json": {
       "model_id": "a9c2d2e828674f15952d7c4ab7578424",
       "version_major": 2,
       "version_minor": 0
      },
      "text/plain": [
       "Figure(layout=FigureLayout(height='420px'))"
      ]
     },
     "metadata": {},
     "output_type": "display_data"
    }
   ],
   "source": [
    "# Base map\n",
    "fig = gmaps.figure()\n",
    "\n",
    "# add marker layer for warehouses\n",
    "warehouse_marker = gmaps.marker_layer(warehouse[['Latitude', 'Longitude']], \n",
    "                                      hover_text=warehouse['Name'], \n",
    "                                      info_box_content=warehouse['Address'], \n",
    "                                      label='J')\n",
    "fig.add_layer(warehouse_marker)\n",
    "\n",
    "# add symbol layer for customer regions\n",
    "customer_symbols = gmaps.symbol_layer(cust_regions[['Latitude', 'Longitude']], \n",
    "                                      hover_text=cust_regions['Census County Division'], \n",
    "                                      info_box_content=cust_regions['Census County Division'], \n",
    "                                      scale=5)\n",
    "fig.add_layer(customer_symbols)\n",
    "\n",
    "# display figure\n",
    "fig"
   ]
  },
  {
   "cell_type": "code",
   "execution_count": 13,
   "metadata": {},
   "outputs": [],
   "source": [
    "customer_symbols.markers[0].scale = 10\n",
    "\n",
    "min_pop = cust_regions['Population'].min()\n",
    "max_pop = cust_regions['Population'].max()\n",
    "\n",
    "i = 0\n",
    "\n",
    "for i in range(len(customer_symbols.markers)):\n",
    "    population = cust_regions[cust_regions['Census County Division'] == customer_symbols.markers[i].hover_text].Population\n",
    "    marker_scale = int(3 + 7 * np.sqrt((population - min_pop)/(max_pop - min_pop)))\n",
    "    customer_symbols.markers[i].scale = marker_scale"
   ]
  },
  {
   "cell_type": "code",
   "execution_count": 15,
   "metadata": {},
   "outputs": [
    {
     "data": {
      "text/plain": [
       "{'Agoura Hills-Malibu': 0,\n",
       " 'Compton': 0,\n",
       " 'Downey-Norwalk': 0,\n",
       " 'East San Gabriel Valley': 0,\n",
       " 'Inglewood': 0,\n",
       " 'Long Beach-Lakewood': 0,\n",
       " 'Los Angeles': 0,\n",
       " 'Palos Verdes': 0,\n",
       " 'Pasadena': 0,\n",
       " 'San Fernando Valley': 0,\n",
       " 'Santa Monica': 0,\n",
       " 'South Bay Cities': 0,\n",
       " 'South Gate-East Los Angeles': 0,\n",
       " 'Southwest San Gabriel Valley': 0,\n",
       " 'Torrance': 0,\n",
       " 'Upper San Gabriel Valley': 0,\n",
       " 'Whittier': 0}"
      ]
     },
     "execution_count": 15,
     "metadata": {},
     "output_type": "execute_result"
    }
   ],
   "source": [
    "delivery_dict = {el:0 for el in cust_regions['Census County Division']}\n",
    "delivery_dict"
   ]
  },
  {
   "cell_type": "code",
   "execution_count": null,
   "metadata": {},
   "outputs": [],
   "source": [
    "# Warehouse class object\n",
    "class Warehouse:\n",
    "    \n",
    "    def __init__(self, name):\n",
    "        '''Constructor method\n",
    "        :param data: warehouse pandas DataFrame\n",
    "        :param name: Name of the warehouse to look up\n",
    "        '''\n",
    "        self.name = name\n",
    "#         self.address = data.loc[name,:].Address\n",
    "#         self.long = data.loc[name,:].Longitude\n",
    "#         self.lat = data.loc[name,:].Latitude\n",
    "        self.inventory = {el:0 for el in range(1,13)}\n",
    "        self.van = 5\n",
    "        self.delivery_expense = 0\n",
    "        self.delivery_list = {el:0 for el in cust_regions['Census County Division']}\n",
    "    \n",
    "    \n",
    "    def reduceInv(self, customer_choice):\n",
    "        if self.inventory[customer_choice] != 0:\n",
    "            self.inventory[customer_choice] -= 1\n",
    "        else:\n",
    "            print('No inventory for Bundle ' + str(customer_choice))\n",
    "            \n",
    "    def deliver(self, distance_df):\n",
    "        \n",
    "        # if number of orders to deliver is equal to the size of van\n",
    "        if sum(self.delivery_list.values()) == self.van:\n",
    "            \n",
    "            # loop through the delivery_list dictionary\n",
    "            for key in self.delivery_list.keys():\n",
    "                \n",
    "                # if there is an order or more\n",
    "                if delivery_list[key] != 0: \n",
    "                    # get distance from this warehouse to region\n",
    "                    dist_to_region = distance_df.loc[self.name][key]\n",
    "                    \n",
    "                    # calculate delivery expense and add to total\n",
    "                    self.delivery_expense += dist_to_region * 0.72\n",
    "                    \n",
    "                    # reset delivery_list once orders have been fulfilled\n",
    "                    delivery_list[key] = 0\n",
    "                \n",
    "    def endOfWeekDelivery(self, distance_df):\n",
    "        if sum(self.delivery_list.values()) > 0:\n",
    "            # loop through the delivery_list dictionary\n",
    "            for key in self.delivery_list.keys():\n",
    "                \n",
    "                # if there is an order or more\n",
    "                if delivery_list[key] != 0: \n",
    "                    # get distance from this warehouse to region\n",
    "                    dist_to_region = distance_df.loc[self.name][key]\n",
    "                    \n",
    "                    # calculate delivery expense and add to total\n",
    "                    self.delivery_expense += dist_to_region * 0.72\n",
    "                    \n",
    "                    # reset delivery_list once orders have been fulfilled\n",
    "                    delivery_list[key] = 0"
   ]
  }
 ],
 "metadata": {
  "kernelspec": {
   "display_name": "Python 3",
   "language": "python",
   "name": "python3"
  },
  "language_info": {
   "codemirror_mode": {
    "name": "ipython",
    "version": 3
   },
   "file_extension": ".py",
   "mimetype": "text/x-python",
   "name": "python",
   "nbconvert_exporter": "python",
   "pygments_lexer": "ipython3",
   "version": "3.8.5"
  }
 },
 "nbformat": 4,
 "nbformat_minor": 4
}
