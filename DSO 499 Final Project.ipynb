{
 "cells": [
  {
   "cell_type": "markdown",
   "metadata": {},
   "source": [
    "# DSO 499 Milestone Report\n",
    "\n",
    "### Team: Earth\n",
    "\n",
    "### Team Members:\n",
    "1. Joao Ama - wrote demand, customer_location, stock_creator functions and helped with the weeksimulator and main loop logic\n",
    "2. Kim Nguyen - wrote profit function, helped with weeksimulator and main, editing/cleaning code\n",
    "3. Teeny Chen - wrote the distance function using functions written by other members and implemented it into the weeksimulator and main functions\n",
    "\n",
    "### Overall Structure:\n",
    "Part 1: defining variables and importing data\n",
    "\n",
    "Part 2: Defined functions relating to customer\n",
    "\n",
    "Part 3: Defined functions to calculate profit\n",
    "\n",
    "Part 4: Defined function to simulate weekly profit using functions above\n",
    "\n",
    "Part 5: main functions simulates profit for different stock combinations for 2 year period, using functions defined above\n",
    "\n",
    "\n",
    "### Program:"
   ]
  },
  {
   "cell_type": "code",
   "execution_count": 1,
   "metadata": {
    "_cell_guid": "b1076dfc-b9ad-4769-8c92-a6c4dae69d19",
    "_uuid": "8f2839f25d086af736a60e9eeb907d3b93b6e0e5"
   },
   "outputs": [
    {
     "ename": "ModuleNotFoundError",
     "evalue": "No module named 'geopy'",
     "output_type": "error",
     "traceback": [
      "\u001b[0;31m---------------------------------------------------------------------------\u001b[0m",
      "\u001b[0;31mModuleNotFoundError\u001b[0m                       Traceback (most recent call last)",
      "\u001b[0;32m<ipython-input-1-e0b6751e14e1>\u001b[0m in \u001b[0;36m<module>\u001b[0;34m\u001b[0m\n\u001b[1;32m      5\u001b[0m \u001b[0;32mimport\u001b[0m \u001b[0mnumpy\u001b[0m \u001b[0;32mas\u001b[0m \u001b[0mnp\u001b[0m \u001b[0;31m# linear algebra\u001b[0m\u001b[0;34m\u001b[0m\u001b[0;34m\u001b[0m\u001b[0m\n\u001b[1;32m      6\u001b[0m \u001b[0;32mimport\u001b[0m \u001b[0mpandas\u001b[0m \u001b[0;32mas\u001b[0m \u001b[0mpd\u001b[0m \u001b[0;31m# data processing, CSV file I/O (e.g. pd.read_csv)\u001b[0m\u001b[0;34m\u001b[0m\u001b[0;34m\u001b[0m\u001b[0m\n\u001b[0;32m----> 7\u001b[0;31m \u001b[0;32mfrom\u001b[0m \u001b[0mgeopy\u001b[0m \u001b[0;32mimport\u001b[0m \u001b[0mdistance\u001b[0m\u001b[0;34m\u001b[0m\u001b[0;34m\u001b[0m\u001b[0m\n\u001b[0m\u001b[1;32m      8\u001b[0m \u001b[0;34m\u001b[0m\u001b[0m\n\u001b[1;32m      9\u001b[0m \u001b[0;31m# Input data files are available in the \"../input/\" directory.\u001b[0m\u001b[0;34m\u001b[0m\u001b[0;34m\u001b[0m\u001b[0;34m\u001b[0m\u001b[0m\n",
      "\u001b[0;31mModuleNotFoundError\u001b[0m: No module named 'geopy'"
     ]
    }
   ],
   "source": [
    "# This Python 3 environment comes with many helpful analytics libraries installed\n",
    "# It is defined by the kaggle/python docker image: https://github.com/kaggle/docker-python\n",
    "# For example, here's several helpful packages to load in \n",
    "\n",
    "import numpy as np # linear algebra\n",
    "import pandas as pd # data processing, CSV file I/O (e.g. pd.read_csv)\n",
    "from geopy import distance\n",
    "\n",
    "# Input data files are available in the \"../input/\" directory.\n",
    "# For example, running this (by clicking run or pressing Shift+Enter) will list all files under the input directory\n",
    "\n",
    "import os\n",
    "for dirname, _, filenames in os.walk('/kaggle/input'):\n",
    "    for filename in filenames:\n",
    "        print(os.path.join(dirname, filename))\n",
    "\n",
    "# Any results you write to the current directory are saved as output."
   ]
  },
  {
   "cell_type": "markdown",
   "metadata": {},
   "source": [
    "## Milestone"
   ]
  },
  {
   "cell_type": "code",
   "execution_count": null,
   "metadata": {},
   "outputs": [],
   "source": [
    "# Enter Data\n",
    "warehouses = ['Joymode Downtown LA', 'Joymode South Pasadena']\n",
    "regions = ['Agoura Hills-Malibu', 'Compton', 'Downey-Norwalk', 'East San Gabriel Valley', 'Inglewood', 'Long Beach-Lakewood', 'Los Angeles', 'Palos Verdes', 'Pasadena', 'San Fernando Valley', 'Santa Monica', 'South Bay Cities', 'South Gate-East Los Angeles', 'Southwest San Gabriel Valley', 'Torrance', 'Upper San Gabriel Valley', 'Whittier']\n",
    "region_pop = [63824, 342576, 414144, 935875, 369694, 569100, 2504251, 91365, 268040, 1771545, 89736, 138043, 501237, 318982, 145438, 323899, 316911]\n",
    "\n",
    "# distance[r][w] is the great-circle distance (in miles) between the region indexed r and the warehouse indexed w\n",
    "distances = [[28.01340494, 34.81062341],\n",
    "           [11.8651692 , 18.13995573],\n",
    "           [13.1113517 , 15.24304705],\n",
    "           [23.40306115, 17.2256941 ],\n",
    "           [ 9.03251773, 17.23831517],\n",
    "           [18.58433256, 23.12760706],\n",
    "           [ 6.17370848, 14.7138748 ],\n",
    "           [19.70968228, 27.44264297],\n",
    "           [11.2286649 ,  3.515125  ],\n",
    "           [16.84645184, 17.66079915],\n",
    "           [13.50731777, 21.30107062],\n",
    "           [14.23180632, 22.61968895],\n",
    "           [ 5.88718363,  9.46398148],\n",
    "           [ 8.84474521,  4.77595723],\n",
    "           [15.4041491 , 23.23103475],\n",
    "           [14.62970169,  7.12125806],\n",
    "           [14.61958346, 13.22239959]]\n",
    "\n",
    "\n",
    "\n",
    "customer_base = 3000\n",
    "rent_interval = 12\n",
    "stock1list = []\n",
    "stock2list = []"
   ]
  },
  {
   "cell_type": "code",
   "execution_count": null,
   "metadata": {},
   "outputs": [],
   "source": [
    "# some data for calculating profit\n",
    "rentPrice = 65  # price to rent bundle for weekend, includes delivery both ways\n",
    "retailValue = 439  # ALSO PRICE JOYMODE PAYS FOR CAPITAL INVESTMENT\n",
    "capitalRate = 439  # price joymode pays to get bundle\n",
    "flashPrice = 150  # EVERY 2 YEARS, bundles are sold at flash sales for this price\n",
    "deliveryRate = 0.72  # 0.72 PER MILE!!!! including fuel and labor\n",
    "cleaningRate = 5  # 5 dollars PER BUNDLE"
   ]
  },
  {
   "cell_type": "code",
   "execution_count": null,
   "metadata": {},
   "outputs": [],
   "source": [
    "def demand(base, interval):\n",
    "   '''\n",
    "   This generates a random number of customers that want to rent on a given week.\n",
    "   Input: Size of customer base, the interval at which customers rent\n",
    "   Return: The expected demand based on exponential distribution\n",
    "   '''\n",
    "   a = 1 / interval\n",
    "   totaldemand = 0\n",
    "   for b in range(base): #tried to do np.random.exponential(250),but there was a huge variation. This code works\n",
    "       totaldemand += np.random.exponential(a)\n",
    "   return totaldemand"
   ]
  },
  {
   "cell_type": "code",
   "execution_count": null,
   "metadata": {},
   "outputs": [],
   "source": [
    "def customer_location(regions, region_pop):\n",
    "   '''\n",
    "   This says where a specific customer is located, randomly generated based on population distribution\n",
    "   Input: The list of regions and the list of populations in each of those regions\n",
    "   Return: Which region was selected\n",
    "   '''\n",
    "   # this says where a specific customer is located,\n",
    "   #  randomly generated based on population distribution\n",
    "   total_population = 0\n",
    "   prob = []\n",
    "   for i in region_pop:\n",
    "       total_population += i\n",
    "   for i in region_pop:\n",
    "       p = i / total_population\n",
    "       prob.append(p)\n",
    "   customer_region = np.random.choice(regions, p=prob)\n",
    "   return customer_region"
   ]
  },
  {
   "cell_type": "code",
   "execution_count": null,
   "metadata": {},
   "outputs": [],
   "source": [
    "def distance(customer_region):\n",
    "   '''\n",
    "   Return the warehouse that the customer is closest to and the distance between them in miles.\n",
    "   Input:\n",
    "       customer_region - the region the specific customer is located in\n",
    "   Return:\n",
    "       closestDistance - the distance between the closest warehouse and the region the customer is in (in miles)\n",
    "       dist.index(closestDistance) - the index of the closest warehouse to the customer in the warehouse list (0 for DTLA, 1 for South Pasadena)\n",
    "   '''\n",
    "\n",
    "   # Determine index of the region customer is in in the regions list\n",
    "   i = regions.index(customer_region)\n",
    "\n",
    "   # Find the closest warehouse\n",
    "   dist = []   # store distances between the customer_region and warehouses\n",
    "   for j in range(len(warehouses)):\n",
    "       dist.append(distances[i][j])\n",
    "\n",
    "   closestDistance = min(dist)\n",
    "\n",
    "   return closestDistance, dist.index(closestDistance)"
   ]
  },
  {
   "cell_type": "code",
   "execution_count": null,
   "metadata": {},
   "outputs": [],
   "source": [
    "def calculateProfit(distanceofCustomer):\n",
    "   '''\n",
    "   Calculates profit FOR ONE CUSTOMER.\n",
    "   input: the distance of the customer to warehouse item is being shipped from\n",
    "   return: the profit made from that one customer. Profit = revenue - cleaning costs - delivery costs\n",
    "   '''\n",
    "   deliveryCost = deliveryRate * distanceofCustomer\n",
    "   profit = rentPrice - cleaningRate - deliveryCost\n",
    "   return profit"
   ]
  },
  {
   "cell_type": "code",
   "execution_count": null,
   "metadata": {},
   "outputs": [],
   "source": [
    "def weeksimulator(stock1, stock2):\n",
    "   '''\n",
    "   This function simulates a week, runs through every customer that wanted to rent that week, and calculates\n",
    "   the total week's profit.\n",
    "   inputs:\n",
    "       stock1 = amount of stock from warehouse 1\n",
    "       stock2 = amount of stock from warehouse 2\n",
    "   returns: total week's profit\n",
    "   '''\n",
    "  \n",
    "   # STEP 1: DETERMINE DEMAND FOR THE WEEK\n",
    "   customers = int(demand(customer_base, rent_interval))\n",
    "\n",
    "   # STEP 2: CALCULATE THE PROFIT EARNED THAT WEEK\n",
    "   profit = 0\n",
    "\n",
    "   # for each customer\n",
    "   for customer in range(customers):\n",
    "\n",
    "       # determine which region they are from\n",
    "       region = customer_location(regions, region_pop)\n",
    "       # determine which warehouse is closest to customer and how far they are from the warehouse\n",
    "       distanceOfCustomer, warehouse = distance(region)  # distanceOfCustomer is the number of miles customer is from warehouse\n",
    "       # if first warehouse customer is closer to first warehouse\n",
    "       if warehouse == 0:  \n",
    "           # check if the warehouse has stock\n",
    "           if stock1 > 0:\n",
    "               # simulate transaction\n",
    "               # calculate profit received from transaction and updates stock\n",
    "               profit += calculateProfit(distanceOfCustomer)  # this uses the actual distance to calculate the profit\n",
    "               stock1 -= 1  # updates stock\n",
    "\n",
    "           # if the closer warehouse is out of stock\n",
    "           else:  # stock1<0\n",
    "               # check if other warehouse has stock\n",
    "               if stock2 > 0:\n",
    "                   # update the distance to be distance between customer and second warehouse\n",
    "                   distanceOfCustomer = distances[warehouse][1]\n",
    "                   profit += calculateProfit(distanceOfCustomer)\n",
    "                   stock2 -= 1\n",
    "\n",
    "               # if the other warehouse doesn't have it, they lose the customer\n",
    "               # nothing happens to their profit\n",
    "               else:\n",
    "                   pass\n",
    "\n",
    "       if warehouse == 1:\n",
    "           if stock2 > 0:\n",
    "               profit += calculateProfit(distanceOfCustomer)\n",
    "               stock2 -= 1\n",
    "           else:  # stock2 < 0\n",
    "               if stock1 > 0:\n",
    "                   # update the distance to be distance between customer and first warehouse\n",
    "                   distanceOfCustomer = distances[warehouse][0]\n",
    "                   profit += calculateProfit(distanceOfCustomer)\n",
    "                   stock1 -= 1\n",
    "               else:\n",
    "                   pass\n",
    "\n",
    "   return profit"
   ]
  },
  {
   "cell_type": "code",
   "execution_count": null,
   "metadata": {},
   "outputs": [],
   "source": [
    "def stockcreator():\n",
    "   '''\n",
    "   This function creates the list of different stock options from 0 to 500 increasing by 50\n",
    "   Returns: Two lists, stock1 for the Downtown warehouse and stock2 for the Pasadena warehouse\n",
    "   '''\n",
    "   q = 0\n",
    "   while q < 500:\n",
    "       stock1list.append(q)\n",
    "       stock2list.append(q)\n",
    "       q += 50\n",
    "   return stock1list, stock2list\n",
    "\n"
   ]
  },
  {
   "cell_type": "code",
   "execution_count": null,
   "metadata": {},
   "outputs": [],
   "source": [
    "def main():\n",
    "   '''\n",
    "   Simulates the profit for 2 years for many samples\n",
    "   Calculates the average profit for the simulations for each stock combinations\n",
    "   It prints the average profit and the corresponding stocks\n",
    "   It prints out the largest average profit and the stock combinations that led to the largest profit\n",
    "   '''\n",
    "\n",
    "   largest = 0\n",
    "   simulations = 5\n",
    "   year = 52\n",
    "   stockcreator()\n",
    "   maxstock1 = 0\n",
    "   maxstock2 = 0\n",
    "\n",
    "\n",
    "   print(\"Average Profit, Stock 1, Stock 2\")\n",
    "   for stock1 in stock1list:  # this runs through all the combination of stock at warehouse1\n",
    "       for stock2 in stock2list:  # this runs through all the combinations of stock at warehouse2\n",
    "\n",
    "           yearProfitofAllSimulations = 0\n",
    "\n",
    "           for simulation in range(simulations):  # this runs x number of simulations\n",
    "\n",
    "               yearProfit = 0  # 2 year profit of 1 simulation\n",
    "\n",
    "               for week in range(2 * year):  # this simulates the profit for two full years\n",
    "                   yearProfit += weeksimulator(stock1, stock2)\n",
    "\n",
    "               yearProfit -= (stock1 + stock2) * (439 - 150)  # this subtracts the cost we spent buying the machines\n",
    "\n",
    "               yearProfitofAllSimulations += yearProfit\n",
    "\n",
    "           AvgProfit = yearProfitofAllSimulations / simulations\n",
    "\n",
    "           # keeping track of largest average profit and corresponding stock values\n",
    "           if AvgProfit > largest:\n",
    "               largest = AvgProfit\n",
    "               maxstock1 = stock1\n",
    "               maxstock2 = stock2\n",
    "\n",
    "           print(round(AvgProfit), stock1, stock2)\n",
    "\n",
    "   print(\"Largest 2 year Profit: \", round(largest, 2))  # this is the average profit for a 2 year run for the optimal inventory levels\n",
    "   print(\"Downtown Stock: \", maxstock1, \"Pasadena Stock:\", maxstock2)  # these are the optimal inventory levels"
   ]
  },
  {
   "cell_type": "code",
   "execution_count": null,
   "metadata": {},
   "outputs": [],
   "source": [
    "main()"
   ]
  },
  {
   "cell_type": "markdown",
   "metadata": {},
   "source": [
    "## 0. Load Data"
   ]
  },
  {
   "cell_type": "code",
   "execution_count": null,
   "metadata": {
    "_cell_guid": "79c7e3d0-c299-4dcb-8224-4455121ee9b0",
    "_uuid": "d629ff2d2480ee46fbb7e2d37f6b5fab8052498a"
   },
   "outputs": [],
   "source": [
    "warehouse_data = pd.read_csv('/kaggle/input/joymode_warehouses.csv')\n",
    "cust_regions = pd.read_csv('/kaggle/input/customer_regions.csv')"
   ]
  },
  {
   "cell_type": "code",
   "execution_count": null,
   "metadata": {},
   "outputs": [],
   "source": [
    "warehouse_data = warehouse_data.set_index('Name')"
   ]
  },
  {
   "cell_type": "code",
   "execution_count": null,
   "metadata": {},
   "outputs": [],
   "source": [
    "warehouse_data.head()"
   ]
  },
  {
   "cell_type": "code",
   "execution_count": null,
   "metadata": {},
   "outputs": [],
   "source": [
    "cust_regions.head()"
   ]
  },
  {
   "cell_type": "code",
   "execution_count": null,
   "metadata": {},
   "outputs": [],
   "source": [
    "print(distance.distance((34.040461,-118.266415), (33.869642, -118.245185)).miles)"
   ]
  },
  {
   "cell_type": "markdown",
   "metadata": {},
   "source": [
    "## 1. Warehouse class"
   ]
  },
  {
   "cell_type": "code",
   "execution_count": 32,
   "metadata": {},
   "outputs": [],
   "source": [
    "# Warehouse class object\n",
    "class Warehouse:\n",
    "    \n",
    "    def __init__(self,name):\n",
    "        '''Constructor method\n",
    "        :param data: warehouse pandas DataFrame\n",
    "        :param name: Name of the warehouse to look up\n",
    "        '''\n",
    "        self.name = name\n",
    "        self.inventory = [50,50,50,50,50]\n",
    "        self.deliveryList = {\"Santa Monica\":0,\"USC\":0,\"UCLA\":0}\n",
    "        #self.address = data.loc[name,:].Address\n",
    "        #self.long = data.loc[name,:].Longitude\n",
    "        #self.lat = data.loc[name,:].Latitude\n",
    "        \n",
    "    def checkInventory(self,bundle):\n",
    "        return self.inventory[bundle] != 0 \n",
    "            # returns True if there is inventory, returns false if out of inventory\n",
    "                \n",
    "        "
   ]
  },
  {
   "cell_type": "markdown",
   "metadata": {},
   "source": [
    "## 2. Customer class"
   ]
  },
  {
   "cell_type": "code",
   "execution_count": 2,
   "metadata": {},
   "outputs": [],
   "source": [
    "import random\n",
    "import numpy as np\n",
    "\n",
    "bundles = [1, 2, 3, 4, 5, 6, 7, 8, 9, 10, 11, 12] #these are the 12 bundles that Joymode sells\n",
    "\n",
    "class Customer:\n",
    "    def __init__(self):\n",
    "        self.region = \"\"\n",
    "        self.desire = []\n",
    "        self.satisfaction = 1\n",
    "\n",
    "    def generateLocation(self, region_pop, regions):\n",
    "        '''\n",
    "        This says where a specific customer is located, randomly generated based on population distribution\n",
    "        Input: The list of regions and the list of populations in each of those regions\n",
    "        Return: Which region was selected\n",
    "        '''\n",
    "        # this says where a specific customer is located,\n",
    "        #  randomly generated based on population distribution\n",
    "        total_population = 0\n",
    "        prob = []\n",
    "        for i in region_pop:\n",
    "            total_population += i\n",
    "        for i in region_pop:\n",
    "            p = i / total_population\n",
    "            prob.append(p)\n",
    "        self.region = np.random.choice(regions, p=prob)\n",
    "        return self.region\n",
    "\n",
    "    def generateDesire(self, bundles):\n",
    "        '''\n",
    "        This generates a list of a customer top three bundles based on a equal probability of desire for each bundle\n",
    "        Input: The list of bundles\n",
    "        Return: The generated list of desires\n",
    "        '''\n",
    "        desire = np.random.choice(bundles, 3, replace=False)\n",
    "        self.desire = desire\n",
    "        return self.desire\n",
    "\n",
    "    def leave(self):\n",
    "        '''\n",
    "        This deletes the object if their satisfaction drops below a certain level\n",
    "        Returns: True which means that the customer did leave\n",
    "        '''\n",
    "        if self.satisfaction < .6:\n",
    "            del self\n",
    "            return True\n",
    "         #not sure if this will work\n",
    "\n",
    "    def lowerSatisfaction(self, satisfaction):\n",
    "        self.satisfaction = satisfaction\n",
    "\n",
    "    def getSatisfaction(self):\n",
    "        return self.__satisfaction"
   ]
  },
  {
   "cell_type": "markdown",
   "metadata": {},
   "source": [
    "## 3. Joymode class"
   ]
  },
  {
   "cell_type": "code",
   "execution_count": 21,
   "metadata": {},
   "outputs": [],
   "source": [
    "import csv\n",
    "#import Customer from Customer\n",
    "\n",
    "class Joymode:\n",
    "    def __init__(self):\n",
    "        self.warehouses = {}\n",
    "        self.customers = []\n",
    "        self.profit = 0\n",
    "        self.customerslost = 0\n",
    "        self.customerbase = 10 #3000\n",
    "        self.customersatisfaction = 1\n",
    "\n",
    "    def createCustomers(self,household,regions): # might have to be edited \n",
    "        '''\n",
    "        This program will create 3000 individual customers, generate their locations, and add them to our warehouse list\n",
    "        '''\n",
    "        for i in range(self.customerbase):\n",
    "            a = Customer()\n",
    "            a.generateLocation(household, regions)\n",
    "            self.customers.append(a)\n",
    "\n",
    "    def createWarehouses(self, warehouselist):\n",
    "        '''\n",
    "        This function will populate the warehouse class with the warehouses we were given and add them to our warehouse list\n",
    "        '''\n",
    "        for name in warehouselist: # i IS NAME \n",
    "            self.warehouses[name]=Warehouse(name)\n",
    "            \n",
    "    def getWeekDemand(avgCustomer):\n",
    "       '''\n",
    "       This picks out randomn number of customers that want to rent on a given week, using exponential distribution. \n",
    "       Calculates the number of customers that will order that week, ie. 250\n",
    "       Randomly selects 250 customers from the all the customers at Joymode. \n",
    "       Input: average number of customers that order per week\n",
    "       Return: list containing customer objects, representing customers that will order that week \n",
    "       '''\n",
    "        # generate number of customers \n",
    "        numCustomers = 0\n",
    "        time = 0\n",
    "        a = 1/avgCustomer\n",
    "        while time < 1: \n",
    "            time += np.random.exponential(a)\n",
    "            numCustomers += 1\n",
    "        numCustomers -= 1 # to subtract the last person, because their time is over 250\n",
    "        numCustomers\n",
    "        import random\n",
    "        # select customers from customer base \n",
    "        customerList = random.sample(self.customers, numCustomers)\n",
    "        return customerList\n",
    "        \n",
    "    def getSatisfaction(self):\n",
    "        '''\n",
    "        This function gets the satisfaction of every customer and creates an avg customer satisfaction\n",
    "        Returns: Average Customer Satisfaction\n",
    "        '''\n",
    "        for customer in self.customers:\n",
    "            self.customersatisfaction += customer.getSatiscation()\n",
    "        self.customersatisfaction /= self.customerbase\n",
    "        return self.customersatisfaction\n",
    "    \n",
    "    def findClosetTwoWarehouse(self,customerLocation):\n",
    "        '''\n",
    "        Input: customer's location \n",
    "        Returns: list of the INDEX TWO CLOSEST warehouse to the customer\n",
    "        '''\n",
    "        # df.loc[customerLocation].sort_values()[0:2] this returns the DISTANCE!!! NOT NAME\n",
    "        houseIndex = df2.loc[customerLocation].argsort()[0:2] # THIS RETURNS THE INDEX\n",
    "        warehouseName = df2.columns[houseindex].tolist() # THIS RETURNS THE NAME\n",
    "        return warehouseName\n",
    "    \n",
    "    def checkWarehouses(customerChoices,warehouseList):\n",
    "    '''\n",
    "    Input: list containing customer's top 3 choices, list containing 2 closest warehouse to customer\n",
    "    Returns: the customer's choice if it is in stock and NAME of closest warehouse that has item\n",
    "    '''\n",
    "    for choice in customerChoices:\n",
    "        # check warehouse list\n",
    "        for name in warehouseList:\n",
    "            # if choice exists in warehouse then return it\n",
    "            if Joymode2.warehouses[name].checkInventory(choice) == True:\n",
    "                return choice, name\n",
    "    return \"noStock\" # return if none of customer's choices are in stock at 2 closest warehouse\n",
    "    \n",
    "    def simulateWeek(self):\n",
    "        '''\n",
    "        This program runs the weekly simulation\n",
    "        '''\n",
    "        for customer in self.customers:\n",
    "            desire = customer.generateDesire(bundles)\n",
    "            #use a program that takes desire as input and then outputs which warehouse is delivering and which product\n",
    "            #subtract product from warehouse\n",
    "            #if choice == 2:\n",
    "                #customer.lowerSatiscation(.8)\n",
    "            #elif choice == 3:\n",
    "                #customer.lowerSatisfaction(.7)\n",
    "            #elif\n",
    "\n",
    "    def export(self):\n",
    "        '''\n",
    "        This function creates a csv file containing the program results\n",
    "        '''\n",
    "        with open('joymode_results.csv', mode='w') as joymode_results: ##im not sure how to include inventory levels for each area, is each one a column?\n",
    "            joymode_results = csv.writer(joymode_results, delimiter=',', quotechar='\"', quoting=csv.QUOTE_MINIMAL)\n",
    "            joymode_results.writerow(['Profit', 'Number of Customers', 'Customers Lost', 'Customer Satisfaction'])\n",
    "            joymode_resultsmode_results.writerow([self.profit, self.customerbase, self.customerslost, self.customersatisfaction])\n",
    "            "
   ]
  },
  {
   "cell_type": "code",
   "execution_count": null,
   "metadata": {},
   "outputs": [],
   "source": []
  },
  {
   "cell_type": "code",
   "execution_count": 15,
   "metadata": {},
   "outputs": [
    {
     "data": {
      "text/plain": [
       "Pasadena         40\n",
       "DTLA           2014\n",
       "Culver City      50\n",
       "Name: USC, dtype: int64"
      ]
     },
     "execution_count": 15,
     "metadata": {},
     "output_type": "execute_result"
    }
   ],
   "source": [
    "import pandas as pd\n",
    "df2 = pd.DataFrame({'Regions': [\"Santa Monica\", \"USC\", \"UCLA\"],\n",
    "                   'DTLA': [2012, 2014, 2013],\n",
    "                   'Pasadena':[55, 40, 84],'Culver City':[25, 50, 67]})\n",
    "df2.set_index(\"Regions\",inplace=True)\n",
    "#df2.loc['USC']\n",
    "warehouse=df2.loc[\"USC\"].sort_index(ascending=False)\n",
    "warehouse"
   ]
  },
  {
   "cell_type": "markdown",
   "metadata": {},
   "source": [
    "### demand generator"
   ]
  },
  {
   "cell_type": "code",
   "execution_count": 16,
   "metadata": {},
   "outputs": [
    {
     "data": {
      "text/plain": [
       "['Pasadena', 'Culver City']"
      ]
     },
     "execution_count": 16,
     "metadata": {},
     "output_type": "execute_result"
    }
   ],
   "source": [
    "houseindex = df2.loc[\"USC\"].argsort()[0:2]\n",
    "df2.columns[houseindex].tolist()"
   ]
  },
  {
   "cell_type": "code",
   "execution_count": 17,
   "metadata": {},
   "outputs": [
    {
     "data": {
      "text/html": [
       "<div>\n",
       "<style scoped>\n",
       "    .dataframe tbody tr th:only-of-type {\n",
       "        vertical-align: middle;\n",
       "    }\n",
       "\n",
       "    .dataframe tbody tr th {\n",
       "        vertical-align: top;\n",
       "    }\n",
       "\n",
       "    .dataframe thead th {\n",
       "        text-align: right;\n",
       "    }\n",
       "</style>\n",
       "<table border=\"1\" class=\"dataframe\">\n",
       "  <thead>\n",
       "    <tr style=\"text-align: right;\">\n",
       "      <th></th>\n",
       "      <th>DTLA</th>\n",
       "      <th>Pasadena</th>\n",
       "      <th>Culver City</th>\n",
       "    </tr>\n",
       "    <tr>\n",
       "      <th>Regions</th>\n",
       "      <th></th>\n",
       "      <th></th>\n",
       "      <th></th>\n",
       "    </tr>\n",
       "  </thead>\n",
       "  <tbody>\n",
       "    <tr>\n",
       "      <th>Santa Monica</th>\n",
       "      <td>2012</td>\n",
       "      <td>55</td>\n",
       "      <td>25</td>\n",
       "    </tr>\n",
       "    <tr>\n",
       "      <th>USC</th>\n",
       "      <td>2014</td>\n",
       "      <td>40</td>\n",
       "      <td>50</td>\n",
       "    </tr>\n",
       "    <tr>\n",
       "      <th>UCLA</th>\n",
       "      <td>2013</td>\n",
       "      <td>84</td>\n",
       "      <td>67</td>\n",
       "    </tr>\n",
       "  </tbody>\n",
       "</table>\n",
       "</div>"
      ],
      "text/plain": [
       "              DTLA  Pasadena  Culver City\n",
       "Regions                                  \n",
       "Santa Monica  2012        55           25\n",
       "USC           2014        40           50\n",
       "UCLA          2013        84           67"
      ]
     },
     "execution_count": 17,
     "metadata": {},
     "output_type": "execute_result"
    }
   ],
   "source": [
    "df2"
   ]
  },
  {
   "cell_type": "code",
   "execution_count": 18,
   "metadata": {},
   "outputs": [
    {
     "data": {
      "text/plain": [
       "{'USC': 1}"
      ]
     },
     "execution_count": 18,
     "metadata": {},
     "output_type": "execute_result"
    }
   ],
   "source": [
    "mydict = {}\n",
    "mydict[\"USC\"] = 0 \n",
    "mydict[\"USC\"] += 1\n",
    "mydict"
   ]
  },
  {
   "cell_type": "code",
   "execution_count": 19,
   "metadata": {},
   "outputs": [],
   "source": [
    "import numpy as np\n",
    "def demand(avgCustomer):\n",
    "   '''\n",
    "   This generates a random number of customers that want to rent on a given week, using exponential distribution. \n",
    "   Input: average number of customers that order per week\n",
    "   Return: the expected number of customer orders for one week\n",
    "   '''\n",
    "   numCustomers = 0 \n",
    "   time = 0\n",
    "   a = 1/avgCustomer\n",
    "   while time < 1: \n",
    "    time += np.random.exponential(a)\n",
    "    numCustomers += 1\n",
    "   numCustomers -= 1 # to subtract the last person, because their time is over 250\n",
    "   return numCustomers\n",
    "# NEXT: write function that randomly chooses this number of people from Joymode's 3000 customer objects\n",
    "\n"
   ]
  },
  {
   "cell_type": "markdown",
   "metadata": {},
   "source": [
    "## Def bigProject(self, customerlocation, customerdesire, distance, inventory)\n",
    "-This function takes in the customer location, the customer’s desire, the distance from the customer to all the different warehouses, and the inventory of all the warehouses\n",
    "\n",
    "-It then checks the customer’s desire to see if it is available at the nearest warehouse, if not, it checks the second nearest warehouse\n",
    "\n",
    "-If both dont have it, it then checks the customers second choice in the same manner\n",
    "\n",
    "-Then the third choice, if none of these choices are fulfilled, the customer gets nothing\n",
    "\n",
    "-Returns: which choice the customer got fulfilled (a single number) , which warehouse is fulfilling it, choice index \n"
   ]
  },
  {
   "cell_type": "markdown",
   "metadata": {},
   "source": [
    "# *** SAMPLE: iteration for one customer *** "
   ]
  },
  {
   "cell_type": "code",
   "execution_count": 40,
   "metadata": {},
   "outputs": [],
   "source": [
    "# create customer\n",
    "customer1 = Customer()\n",
    "customer1.region = \"USC\"\n",
    "\n",
    "# generate customer's desire\n",
    "desire = customer1.generateDesire([0,1,2,3,4])\n",
    "desire # [1,4,5]\n",
    "Joymode2 = Joymode() \n",
    "\n",
    "# create warehouse objects\n",
    "warehousestoCreate = [\"Pasadena\",\"Culver City\"]\n",
    "Joymode2.createWarehouses(warehousestoCreate)"
   ]
  },
  {
   "cell_type": "code",
   "execution_count": 41,
   "metadata": {},
   "outputs": [
    {
     "data": {
      "text/plain": [
       "['Pasadena', 'Culver City']"
      ]
     },
     "execution_count": 41,
     "metadata": {},
     "output_type": "execute_result"
    }
   ],
   "source": [
    "# find 2 closests warehouses to the customer\n",
    "warehouseList = Joymode2.findClosetTwoWarehouse(customer1.region) # LIST of 2 NAME of the closet warehouse\n",
    "warehouseList"
   ]
  },
  {
   "cell_type": "code",
   "execution_count": 44,
   "metadata": {},
   "outputs": [
    {
     "data": {
      "text/plain": [
       "2"
      ]
     },
     "execution_count": 44,
     "metadata": {},
     "output_type": "execute_result"
    }
   ],
   "source": [
    "# check if warehouse \n",
    "def checkWarehouses(customerChoices,warehouseList):\n",
    "    '''\n",
    "    Input: list containing customer's top 3 choices, list containing 2 closest warehouse to customer\n",
    "    Returns: the customer's choice if it is in stock and NAME of closest warehouse that has item\n",
    "    '''\n",
    "    for choice in customerChoices:\n",
    "        # check warehouse list\n",
    "        for name in warehouseList:\n",
    "            # if choice exists in warehouse then return it\n",
    "            if Joymode2.warehouses[name].checkInventory(choice) == True:\n",
    "                return choice, name\n",
    "    return \"noStock\" # return if none of customer's choices are in stock at 2 closest warehouse\n",
    "            \n",
    "            \n",
    "        \n",
    "test = checkWarehouses()\n",
    "test"
   ]
  },
  {
   "cell_type": "code",
   "execution_count": 43,
   "metadata": {},
   "outputs": [
    {
     "data": {
      "text/plain": [
       "True"
      ]
     },
     "execution_count": 43,
     "metadata": {},
     "output_type": "execute_result"
    }
   ],
   "source": [
    "Joymode2.warehouses[\"Pasadena\"].checkInventory(1)\n"
   ]
  },
  {
   "cell_type": "code",
   "execution_count": 38,
   "metadata": {},
   "outputs": [
    {
     "data": {
      "text/plain": [
       "True"
      ]
     },
     "execution_count": 38,
     "metadata": {},
     "output_type": "execute_result"
    }
   ],
   "source": [
    "la = Warehouse(\"la\")\n",
    "la.checkInventory(1)"
   ]
  },
  {
   "cell_type": "code",
   "execution_count": null,
   "metadata": {},
   "outputs": [],
   "source": [
    "warehouses = sample.findClosetTwoWarehouse(customer1.region) # LIST of 2 NAME of the closet warehouse\n",
    "for choice in desire:\n",
    "    # check warehouse list\n",
    "    for warehouse in warehouses:\n",
    "        # if choice exists in warehouse then return it and break \n",
    "        if Joymode2.warehouse[warehouses[i]].checkInventory(choice) == True:\n",
    "            return choice\n",
    "        else \n",
    "            continue\n",
    "        # else: then continue "
   ]
  }
 ],
 "metadata": {
  "kernelspec": {
   "display_name": "Python 3",
   "language": "python",
   "name": "python3"
  },
  "language_info": {
   "codemirror_mode": {
    "name": "ipython",
    "version": 3
   },
   "file_extension": ".py",
   "mimetype": "text/x-python",
   "name": "python",
   "nbconvert_exporter": "python",
   "pygments_lexer": "ipython3",
   "version": "3.8.5"
  }
 },
 "nbformat": 4,
 "nbformat_minor": 4
}
