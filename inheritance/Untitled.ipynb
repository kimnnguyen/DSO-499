{
 "cells": [
  {
   "cell_type": "markdown",
   "metadata": {},
   "source": [
    "# 1. Creating \"Being\" Class"
   ]
  },
  {
   "cell_type": "code",
   "execution_count": 1,
   "metadata": {},
   "outputs": [],
   "source": [
    "class Being(object):\n",
    "    def __init__(self, name, quarts):\n",
    "        self.__name = name\n",
    "        self.__quarts = quarts\n",
    "\n",
    "    # get and set method for name\n",
    "    def getName(self):\n",
    "        return self.__name\n",
    "\n",
    "    def setName(self,newName):\n",
    "        self.__name = newName\n",
    "\n",
    "    # get and set method for quarts\n",
    "    def getQuarts(self):\n",
    "        return self.__quarts\n",
    "\n",
    "    def setQuarts(self,newQuarts):\n",
    "        self.__quarts = newQuarts\n",
    "\n",
    "    # increase and decrease quarts of blood by one\n",
    "    def increaseQuarts(self):\n",
    "        self.__quarts += 1\n",
    "\n",
    "    def decreaseQuarts(self):\n",
    "        self.__quarts -= 1\n"
   ]
  },
  {
   "cell_type": "markdown",
   "metadata": {},
   "source": [
    "# 2. Creating the \"Human\" Class\n",
    "Human inherits from being class."
   ]
  },
  {
   "cell_type": "code",
   "execution_count": 2,
   "metadata": {},
   "outputs": [],
   "source": [
    "from Being import Being\n",
    "\n",
    "class Human(Being):\n",
    "    def __init__(self, name, quarts, bloodType):\n",
    "         super().__init__(name, quarts)\n",
    "         self.__bloodType = bloodType\n",
    "\n",
    "    # getter and setter for blood type\n",
    "    def getBloodType(self):\n",
    "        return self.__bloodType\n",
    "    \n",
    "    def setBloodType(self,newBloodType):\n",
    "        self.__bloodType = newBloodType\n",
    "\n",
    "    # check if human is alive. If number of quarts of blood is 0, the human is dead, so return false.\n",
    "    # if human number of quarts of blood is greater than zero, human is alive, so return true.\n",
    "    def isAlive(self):\n",
    "        if self.getQuarts() > 0 :\n",
    "            return True\n",
    "        elif self.getQuarts() == 0:\n",
    "            return False\n",
    "\n",
    "    # strings together name, number of quarts of blood, and blood type of the human\n",
    "    def __str__(self):\n",
    "        msg = \"Human \" + self.getName() + \" has \" + str(self.getQuarts()) + \\\n",
    "              \" quarts of type \" + self.__bloodType + \" blood.\"\n",
    "        return msg\n",
    "\n"
   ]
  },
  {
   "cell_type": "markdown",
   "metadata": {},
   "source": [
    "# 3. Creating the \"Vampire\" Class\n",
    "Vampire class inherits from being class."
   ]
  },
  {
   "cell_type": "code",
   "execution_count": 3,
   "metadata": {},
   "outputs": [],
   "source": [
    "from Being import Being\n",
    "\n",
    "class Vampire(Being):\n",
    "    def __init__(self, name, quarts, animalForm):\n",
    "        super().__init__(name, quarts)\n",
    "        self.__maxBlood = 5\n",
    "        self.__hungerLevels = [\"starving\",\"hangry\",\"hungry\",\"content\",\"full\",\"stuffed\"]\n",
    "        self.__animalForm = animalForm\n",
    "\n",
    "    # get and set method for animal form\n",
    "    def getAnimalForm(self):\n",
    "        return self.__animalForm\n",
    "\n",
    "    def setAnimalForm(self, newForm):\n",
    "        self.__animalForm = newForm\n",
    "\n",
    "    # use the vampire's current quart of blood as an index for the hungerlevels list to determine hunger level\n",
    "    def getHunger(self):\n",
    "        hunger = self.__hungerLevels # list of the hunger levels\n",
    "        level = self.getQuarts() # this acts as the index\n",
    "        return hunger[level]\n",
    "\n",
    "    # gets the quarts of blood the vampire to determine his hunger levels\n",
    "    def isStuffed(self):\n",
    "        # if vampire's quarts of blood is equal to the max blood (5), then return True.\n",
    "        # It is true that vampire is stuffed\n",
    "        if self.getQuarts() == self.__maxBlood:\n",
    "            return True\n",
    "        # return false if the vampire's quarts of blood is not equal to the max.\n",
    "        else:\n",
    "            return False\n",
    "    # simulates blood sucking. Increase vampire's quarts of blood by one and decrease human's quarts of blood by one.\n",
    "    def suckBlood(self, human):\n",
    "        human.decreaseQuarts()\n",
    "        self.increaseQuarts()\n",
    "\n",
    "    def __str__(self):\n",
    "        msg = self.getName() + \" is \" + self.getHunger() + \".\"\n",
    "        return msg\n",
    "\n"
   ]
  },
  {
   "cell_type": "markdown",
   "metadata": {},
   "source": [
    "# 4. The Game"
   ]
  },
  {
   "cell_type": "code",
   "execution_count": 4,
   "metadata": {},
   "outputs": [
    {
     "ename": "SyntaxError",
     "evalue": "invalid syntax (<ipython-input-4-9fd00649679e>, line 61)",
     "output_type": "error",
     "traceback": [
      "\u001b[0;36m  File \u001b[0;32m\"<ipython-input-4-9fd00649679e>\"\u001b[0;36m, line \u001b[0;32m61\u001b[0m\n\u001b[0;31m    break()\u001b[0m\n\u001b[0m         ^\u001b[0m\n\u001b[0;31mSyntaxError\u001b[0m\u001b[0;31m:\u001b[0m invalid syntax\n"
     ]
    }
   ],
   "source": [
    "from Human import Human\n",
    "from Vampire import Vampire\n",
    "\n",
    "def printHumans(humanList):\n",
    "    print(\"----------------------------------------------\")\n",
    "    listLength = len(humanList) #contains a LIST of all the indices of the humans.\n",
    "    for num in range(listLength):\n",
    "        print(num, \")\", humanList[num]) #humanList[num] is the human with the correspinding index\n",
    "    print(\"----------------------------------------------\")\n",
    "\n",
    "\n",
    "def performdFeeding(humanList, vamp):\n",
    "    humanIndex = int(input(\"Please select a human from the list: \"))\n",
    "    listLength = len(humanList)\n",
    "    # used for error checking\n",
    "    possibleValues = list(range(listLength)) # list of INTEGERS(the indices for how many humans are in the List)\n",
    "\n",
    "    # error checking\n",
    "    while humanIndex not in possibleValues:\n",
    "        print(\"Invalid input. Please try again. \")\n",
    "        humanIndex = int(input(\"Please select a human from the list: \"))\n",
    "    human = humanList[humanIndex]\n",
    "    # determine if the vampire is able to suck blood from human\n",
    "    # human cannot have less than 0 quarts of blood and vampire can't have more than 5 quarts of blood\n",
    "    if human.isAlive() == False:\n",
    "        print(human)\n",
    "        print(human.getName(), \"is dead! Cannot suck blood.\")\n",
    "    if vamp.isStuffed() == True:\n",
    "        print(vamp, vamp.getName(), \"can not suck any more blood.\") # printing out vamp prints out the status of the vamp.\n",
    "    elif human.getQuarts() > 0 and vamp.isStuffed() == False:\n",
    "        vamp.suckBlood(human)\n",
    "        print(human)\n",
    "        print(vamp)\n",
    "\n",
    "\n",
    "\n",
    "def main():\n",
    "\n",
    "    # display menu\n",
    "    print(\"Menu: \")\n",
    "    print(\"1) Print all humans\")\n",
    "    print(\"2) Suck Blood\")\n",
    "    print(\"-1) quit\")\n",
    "\n",
    "    option = input(\"Please select an option from the menu: \")\n",
    "    # error checking\n",
    "    possibleSelections = [\"1\",\"2\",\"-1\"]\n",
    "    while option not in possibleSelections:\n",
    "        print(\"Invalid input. Please try again.\")\n",
    "        option = input(\"Please select an option from the menu: \")\n",
    "    # Option1: print all humans\n",
    "    if option == \"1\":\n",
    "        printHumans(humanList)\n",
    "    # Option 2: Vampire sucks blood.\n",
    "    elif option == \"2\":\n",
    "        printHumans(humanList)\n",
    "        performdFeeding(humanList,vamp)\n",
    "    # Option 3: vampire turns back into animal and program ends\n",
    "    elif option == \"-1\":\n",
    "        print(vamp.getName() + \" turned back into a \", vamp.getAnimalForm()+\".\")\n",
    "        quit()\n",
    "\n",
    "# creating 4 humans and putting them into a list\n",
    "Alice = Human(\"Alice\",10,\"A+\")\n",
    "Jerry = Human(\"Jerry\", 3,\"B+\")\n",
    "Tom = Human(\"Tom\", 5, \"O\")\n",
    "Mary = Human(\"Mary\", 8, \"A-\")\n",
    "humanList = [Alice, Jerry, Tom, Mary]\n",
    "# ask user for vampire name and animal form\n",
    "vampName = input(\"Enter the name of the vampire: \").title()\n",
    "animal = input(\"Enter an animal: \")\n",
    "#create vampire\n",
    "vamp = Vampire(vampName, 0, animal)\n",
    "while True:\n",
    "    main()\n"
   ]
  },
  {
   "cell_type": "code",
   "execution_count": null,
   "metadata": {},
   "outputs": [],
   "source": [
    "list(range(4))"
   ]
  },
  {
   "cell_type": "code",
   "execution_count": null,
   "metadata": {},
   "outputs": [],
   "source": []
  }
 ],
 "metadata": {
  "language_info": {
   "codemirror_mode": {
    "name": "ipython",
    "version": 3
   },
   "file_extension": ".py",
   "mimetype": "text/x-python",
   "name": "python",
   "nbconvert_exporter": "python",
   "pygments_lexer": "ipython3",
   "version": "3.8.5"
  }
 },
 "nbformat": 4,
 "nbformat_minor": 4
}
